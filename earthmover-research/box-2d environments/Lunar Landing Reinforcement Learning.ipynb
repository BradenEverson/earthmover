{
 "cells": [
  {
   "cell_type": "markdown",
   "id": "01c32df2",
   "metadata": {},
   "source": [
    "# Reinforcement Learning with Lunar Landing\n",
    "This is a small sample code for the `LunarLander-v3` environment in OpenAI's Gym which is designed to simulate a reinforcement learning scenario where a agent must control a lunar lander to safely land on a designated landing pad."
   ]
  },
  {
   "cell_type": "markdown",
   "id": "86ca8de7",
   "metadata": {},
   "source": [
    "### Library Imports\n",
    "Here, we make the following library imports, where we manage to import the `gymansium` library, which gives us access to the environment. We import the `imageio` library which allows us to produce a `.gif` file."
   ]
  },
  {
   "cell_type": "code",
   "execution_count": 1,
   "id": "05c326ff",
   "metadata": {},
   "outputs": [],
   "source": [
    "import gymnasium as gym\n",
    "import imageio"
   ]
  },
  {
   "cell_type": "markdown",
   "id": "d5772728",
   "metadata": {},
   "source": [
    "### Creating a Environment\n",
    "Here, we create a Gym environment using `gym.make()`. Although the `.make()` can accept multiple parameters, we can insert the lunar lander environment, as well as set the render mode, which allows us to create image arrays."
   ]
  },
  {
   "cell_type": "code",
   "execution_count": 2,
   "id": "72e3d14d",
   "metadata": {},
   "outputs": [],
   "source": [
    "env = gym.make(\"LunarLander-v3\", render_mode=\"rgb_array\")"
   ]
  },
  {
   "cell_type": "markdown",
   "id": "2f5f856f",
   "metadata": {},
   "source": [
    "### Running Multiple Episodes\n",
    "Next, we define a function for simulating multiple episodes of an envrionment and captures the frames rendered during each episode. This function takes in two optional parameters, which are:\n",
    "- `num_episodes` being the number of episodes being run\n",
    "- `max_steps` being the maximum number of steps being allowed in each episode\n",
    "\n",
    "### Understanding the Code\n",
    "1. `env.reset()` takes in two optional parameters, which are the seed and options, and returns observation and info\n",
    "2. `env.render()` takes in any kind of parameter, such as \"human\" or \"rgb_array and etc..\". If there is none, no render is computed\n",
    "3. `env.action_space` corresponds to all valid actions which should be contained within the space \n",
    "4. `env.step()` takes in the parameter called action, and returns observation, reward, terminated, truncated and info\n",
    "5. `env.close()` closes the environment to clean up the code necessary to clean up the environment "
   ]
  },
  {
   "cell_type": "code",
   "execution_count": 3,
   "id": "2fac2cd5",
   "metadata": {},
   "outputs": [],
   "source": [
    "def run_multiple_episodes(num_episodes=10, max_steps=200):\n",
    "    \n",
    "    # initalizing a empty list of frames \n",
    "    frames = [] \n",
    "\n",
    "    # for loop for iterating through number of episodes\n",
    "    for _ in range(num_episodes):\n",
    "        observation, info = env.reset()   # resetting the environment at the start of each episode\n",
    "                                          # returns an initial observation and a info dictionary with environment info\n",
    "        episode_over = False              # set to false to indicate that the episode is ongoing\n",
    "        steps = 0                         # used to track the number of steps taken in current episode\n",
    "\n",
    "        # a while loop where episode_over indicates that the episode is ongoing\n",
    "        # sets steps to 0, tracking the number of steps taken in each episode\n",
    "        while not episode_over and steps < max_steps:\n",
    "            \n",
    "            # renders the current state of the environment and captures the visual frame\n",
    "            frame = env.render()\n",
    "            \n",
    "            # adds the frame to the list of frames\n",
    "            frames.append(frame)\n",
    "            \n",
    "            # selects a random action from the environment's action space using .sample()\n",
    "            action = env.action_space.sample() \n",
    "            \n",
    "            # env.step(action) returns observation, reward, terminated, truncated and info\n",
    "            observation, reward, terminated, truncated, info = env.step(action)\n",
    "            \n",
    "            # sets episode_over to true if the episode has ended or reached a terminal state\n",
    "            episode_over = terminated or truncated\n",
    "            \n",
    "            # increments the step\n",
    "            steps += 1  \n",
    "\n",
    "    # environment is closed to free up resources\n",
    "    env.close()\n",
    "    return frames"
   ]
  },
  {
   "cell_type": "markdown",
   "id": "c89790d8",
   "metadata": {},
   "source": [
    "### Storing the Frames\n",
    "Next, we store the entire list of frames in a variable called `frames` after calling the method `run_multiple_episodes()`."
   ]
  },
  {
   "cell_type": "code",
   "execution_count": 4,
   "id": "ca785b50",
   "metadata": {},
   "outputs": [],
   "source": [
    "frames = run_multiple_episodes(num_episodes=10)  "
   ]
  },
  {
   "cell_type": "markdown",
   "id": "61b247fd",
   "metadata": {},
   "source": [
    "### Creating the GIF\n",
    "Lastly, we create a .gif file using `imageio.mimsave()`, which is a function that allows for saving a series of frames as a single animation file. We set the frame rate to 50 frames per second, and name the file `imageio.mimsave('lunar_lander_multiple_episodes.gif', frames, fps=50)`"
   ]
  },
  {
   "cell_type": "code",
   "execution_count": 5,
   "id": "581bd473",
   "metadata": {},
   "outputs": [],
   "source": [
    "imageio.mimsave('lunar_lander_multiple_episodes.gif', frames, fps=50)"
   ]
  }
 ],
 "metadata": {
  "kernelspec": {
   "display_name": "Box2D",
   "language": "python",
   "name": "rl-lunar-lander"
  },
  "language_info": {
   "codemirror_mode": {
    "name": "ipython",
    "version": 3
   },
   "file_extension": ".py",
   "mimetype": "text/x-python",
   "name": "python",
   "nbconvert_exporter": "python",
   "pygments_lexer": "ipython3",
   "version": "3.13.0"
  }
 },
 "nbformat": 4,
 "nbformat_minor": 5
}

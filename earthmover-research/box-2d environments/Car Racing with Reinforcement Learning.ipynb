{
 "cells": [
  {
   "cell_type": "code",
   "execution_count": 9,
   "id": "39b42117",
   "metadata": {},
   "outputs": [],
   "source": [
    "import gymnasium as gym\n",
    "import imageio"
   ]
  },
  {
   "cell_type": "code",
   "execution_count": 10,
   "id": "13203431",
   "metadata": {},
   "outputs": [],
   "source": [
    "env = gym.make(\"CarRacing-v3\", render_mode=\"rgb_array\",  lap_complete_percent=0.95, \n",
    "               domain_randomize=False, continuous=True)"
   ]
  },
  {
   "cell_type": "code",
   "execution_count": 11,
   "id": "0cce324b",
   "metadata": {},
   "outputs": [],
   "source": [
    "def run_multiple_episodes(num_episodes=10, max_steps=200):\n",
    "    frames = []\n",
    "    \n",
    "    for _ in range(num_episodes):\n",
    "        observation, info = env.reset()\n",
    "        episode_over = False\n",
    "        steps = 0\n",
    "        \n",
    "        while not episode_over and steps < max_steps:\n",
    "            frame = env.render()\n",
    "            frames.append(frame)\n",
    "            \n",
    "            action = env.action_space.sample()\n",
    "            observation, reward, terminated, truncated, info = env.step(action)\n",
    "            episode_over = terminated or truncated\n",
    "            \n",
    "            steps += 1\n",
    "    \n",
    "    env.close()\n",
    "    return frames"
   ]
  },
  {
   "cell_type": "code",
   "execution_count": 12,
   "id": "88a5e1bd",
   "metadata": {},
   "outputs": [],
   "source": [
    "frames = run_multiple_episodes(num_episodes=10)"
   ]
  },
  {
   "cell_type": "code",
   "execution_count": 13,
   "id": "ccd8d778",
   "metadata": {},
   "outputs": [],
   "source": [
    "imageio.mimsave('car_racing_multiple_episodes.gif', frames, fps=50)"
   ]
  }
 ],
 "metadata": {
  "kernelspec": {
   "display_name": "lunar-lander",
   "language": "python",
   "name": "python3"
  },
  "language_info": {
   "codemirror_mode": {
    "name": "ipython",
    "version": 3
   },
   "file_extension": ".py",
   "mimetype": "text/x-python",
   "name": "python",
   "nbconvert_exporter": "python",
   "pygments_lexer": "ipython3",
   "version": "3.13.0"
  }
 },
 "nbformat": 4,
 "nbformat_minor": 5
}

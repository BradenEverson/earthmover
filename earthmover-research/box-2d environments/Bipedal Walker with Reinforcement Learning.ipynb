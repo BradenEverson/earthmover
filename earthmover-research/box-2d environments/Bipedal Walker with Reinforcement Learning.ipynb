{
 "cells": [
  {
   "cell_type": "code",
   "execution_count": 5,
   "metadata": {},
   "outputs": [],
   "source": [
    "import gymnasium as gym\n",
    "import imageio"
   ]
  },
  {
   "cell_type": "code",
   "execution_count": 2,
   "metadata": {},
   "outputs": [
    {
     "data": {
      "text/plain": [
       "<TimeLimit<OrderEnforcing<PassiveEnvChecker<BipedalWalker<BipedalWalker-v3>>>>>"
      ]
     },
     "execution_count": 2,
     "metadata": {},
     "output_type": "execute_result"
    }
   ],
   "source": [
    "env = gym.make(\"BipedalWalker-v3\", hardcore=True, render_mode=\"rgb_array\")\n",
    "env"
   ]
  },
  {
   "cell_type": "code",
   "execution_count": 3,
   "metadata": {},
   "outputs": [],
   "source": [
    "def run_multiple_episodes(num_episodes=10, max_steps=200):\n",
    "    \n",
    "    # initalizing a empty list of frames \n",
    "    frames = [] \n",
    "\n",
    "    # for loop for iterating through number of episodes\n",
    "    for _ in range(num_episodes):\n",
    "        observation, info = env.reset()   # resetting the environment at the start of each episode\n",
    "                                          # returns an initial observation and a info dictionary with environment info\n",
    "        episode_over = False              # set to false to indicate that the episode is ongoing\n",
    "        steps = 0                         # used to track the number of steps taken in current episode\n",
    "\n",
    "        # a while loop where episode_over indicates that the episode is ongoing\n",
    "        # sets steps to 0, tracking the number of steps taken in each episode\n",
    "        while not episode_over and steps < max_steps:\n",
    "            \n",
    "            # renders the current state of the environment and captures the visual frame\n",
    "            frame = env.render()\n",
    "            \n",
    "            # adds the frame to the list of frames\n",
    "            frames.append(frame)\n",
    "            \n",
    "            # selects a random action from the environment's action space using .sample()\n",
    "            action = env.action_space.sample() \n",
    "            \n",
    "            # env.step(action) returns observation, reward, terminated, truncated and info\n",
    "            observation, reward, terminated, truncated, info = env.step(action)\n",
    "            \n",
    "            # sets episode_over to true if the episode has ended or reached a terminal state\n",
    "            episode_over = terminated or truncated\n",
    "            \n",
    "            # increments the step\n",
    "            steps += 1  \n",
    "\n",
    "    # environment is closed to free up resources\n",
    "    env.close()\n",
    "    return frames"
   ]
  },
  {
   "cell_type": "code",
   "execution_count": 4,
   "metadata": {},
   "outputs": [],
   "source": [
    "frames = run_multiple_episodes(num_episodes=10)  "
   ]
  },
  {
   "cell_type": "code",
   "execution_count": 6,
   "metadata": {},
   "outputs": [],
   "source": [
    "imageio.mimsave('bipedal_walker.gif', frames, fps=50)"
   ]
  },
  {
   "cell_type": "code",
   "execution_count": null,
   "metadata": {},
   "outputs": [],
   "source": []
  }
 ],
 "metadata": {
  "kernelspec": {
   "display_name": "lunar-lander",
   "language": "python",
   "name": "python3"
  },
  "language_info": {
   "codemirror_mode": {
    "name": "ipython",
    "version": 3
   },
   "file_extension": ".py",
   "mimetype": "text/x-python",
   "name": "python",
   "nbconvert_exporter": "python",
   "pygments_lexer": "ipython3",
   "version": "3.13.0"
  }
 },
 "nbformat": 4,
 "nbformat_minor": 2
}

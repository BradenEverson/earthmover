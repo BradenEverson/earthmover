{
 "cells": [
  {
   "cell_type": "code",
   "execution_count": 1,
   "id": "6f5132f1-bf31-4202-b3c2-ab0c17c3d8d2",
   "metadata": {},
   "outputs": [],
   "source": [
    "# importing all required packages\n",
    "# ray start --head --port=6379 \n",
    "import ray\n",
    "import time\n",
    "import psutil\n",
    "import numpy as np"
   ]
  },
  {
   "cell_type": "code",
   "execution_count": 2,
   "id": "89a4b7d4-87f7-4b95-a733-edfd3fadda66",
   "metadata": {
    "scrolled": true
   },
   "outputs": [
    {
     "name": "stderr",
     "output_type": "stream",
     "text": [
      "2025-01-07 02:17:10,313\tINFO worker.py:1636 -- Connecting to existing Ray cluster at address: 127.0.0.1:6379...\n",
      "2025-01-07 02:17:10,391\tINFO worker.py:1812 -- Connected to Ray cluster. View the dashboard at \u001b[1m\u001b[32m127.0.0.1:8265 \u001b[39m\u001b[22m\n"
     ]
    },
    {
     "data": {
      "application/vnd.jupyter.widget-view+json": {
       "model_id": "a89ead8852354b38ba66e9429d0a1296",
       "version_major": 2,
       "version_minor": 0
      },
      "text/html": [
       "<div class=\"lm-Widget p-Widget lm-Panel p-Panel jp-Cell-outputWrapper\">\n",
       "    <div style=\"margin-left: 50px;display: flex;flex-direction: row;align-items: center\">\n",
       "        <div class=\"jp-RenderedHTMLCommon\" style=\"display: flex; flex-direction: row;\">\n",
       "  <svg viewBox=\"0 0 567 224\" fill=\"none\" xmlns=\"http://www.w3.org/2000/svg\" style=\"height: 3em;\">\n",
       "    <g clip-path=\"url(#clip0_4338_178347)\">\n",
       "        <path d=\"M341.29 165.561H355.29L330.13 129.051C345.63 123.991 354.21 112.051 354.21 94.2307C354.21 71.3707 338.72 58.1807 311.88 58.1807H271V165.561H283.27V131.661H311.8C314.25 131.661 316.71 131.501 319.01 131.351L341.25 165.561H341.29ZM283.29 119.851V70.0007H311.82C331.3 70.0007 342.34 78.2907 342.34 94.5507C342.34 111.271 331.34 119.861 311.82 119.861L283.29 119.851ZM451.4 138.411L463.4 165.561H476.74L428.74 58.1807H416L367.83 165.561H380.83L392.83 138.411H451.4ZM446.19 126.601H398L422 72.1407L446.24 126.601H446.19ZM526.11 128.741L566.91 58.1807H554.35L519.99 114.181L485.17 58.1807H472.44L514.01 129.181V165.541H526.13V128.741H526.11Z\" fill=\"var(--jp-ui-font-color0)\"/>\n",
       "        <path d=\"M82.35 104.44C84.0187 97.8827 87.8248 92.0678 93.1671 87.9146C98.5094 83.7614 105.083 81.5067 111.85 81.5067C118.617 81.5067 125.191 83.7614 130.533 87.9146C135.875 92.0678 139.681 97.8827 141.35 104.44H163.75C164.476 101.562 165.622 98.8057 167.15 96.2605L127.45 56.5605C121.071 60.3522 113.526 61.6823 106.235 60.3005C98.9443 58.9187 92.4094 54.9203 87.8602 49.0574C83.3109 43.1946 81.0609 35.8714 81.5332 28.4656C82.0056 21.0599 85.1679 14.0819 90.4252 8.8446C95.6824 3.60726 102.672 0.471508 110.08 0.0272655C117.487 -0.416977 124.802 1.86091 130.647 6.4324C136.493 11.0039 140.467 17.5539 141.821 24.8501C143.175 32.1463 141.816 39.6859 138 46.0505L177.69 85.7505C182.31 82.9877 187.58 81.4995 192.962 81.4375C198.345 81.3755 203.648 82.742 208.33 85.3976C213.012 88.0532 216.907 91.9029 219.616 96.5544C222.326 101.206 223.753 106.492 223.753 111.875C223.753 117.258 222.326 122.545 219.616 127.197C216.907 131.848 213.012 135.698 208.33 138.353C203.648 141.009 198.345 142.375 192.962 142.313C187.58 142.251 182.31 140.763 177.69 138L138 177.7C141.808 184.071 143.155 191.614 141.79 198.91C140.424 206.205 136.44 212.75 130.585 217.313C124.731 221.875 117.412 224.141 110.004 223.683C102.596 223.226 95.6103 220.077 90.3621 214.828C85.1139 209.58 81.9647 202.595 81.5072 195.187C81.0497 187.779 83.3154 180.459 87.878 174.605C92.4405 168.751 98.9853 164.766 106.281 163.401C113.576 162.035 121.119 163.383 127.49 167.19L167.19 127.49C165.664 124.941 164.518 122.182 163.79 119.3H141.39C139.721 125.858 135.915 131.673 130.573 135.826C125.231 139.98 118.657 142.234 111.89 142.234C105.123 142.234 98.5494 139.98 93.2071 135.826C87.8648 131.673 84.0587 125.858 82.39 119.3H60C58.1878 126.495 53.8086 132.78 47.6863 136.971C41.5641 141.163 34.1211 142.972 26.7579 142.059C19.3947 141.146 12.6191 137.574 7.70605 132.014C2.79302 126.454 0.0813599 119.29 0.0813599 111.87C0.0813599 104.451 2.79302 97.2871 7.70605 91.7272C12.6191 86.1673 19.3947 82.5947 26.7579 81.6817C34.1211 80.7686 41.5641 82.5781 47.6863 86.7696C53.8086 90.9611 58.1878 97.2456 60 104.44H82.35ZM100.86 204.32C103.407 206.868 106.759 208.453 110.345 208.806C113.93 209.159 117.527 208.258 120.522 206.256C123.517 204.254 125.725 201.276 126.771 197.828C127.816 194.38 127.633 190.677 126.253 187.349C124.874 184.021 122.383 181.274 119.205 179.577C116.027 177.88 112.359 177.337 108.826 178.042C105.293 178.746 102.113 180.654 99.8291 183.44C97.5451 186.226 96.2979 189.718 96.3 193.32C96.2985 195.364 96.7006 197.388 97.4831 199.275C98.2656 201.163 99.4132 202.877 100.86 204.32ZM204.32 122.88C206.868 120.333 208.453 116.981 208.806 113.396C209.159 109.811 208.258 106.214 206.256 103.219C204.254 100.223 201.275 98.0151 197.827 96.97C194.38 95.9249 190.676 96.1077 187.348 97.4873C184.02 98.8669 181.274 101.358 179.577 104.536C177.879 107.714 177.337 111.382 178.041 114.915C178.746 118.448 180.653 121.627 183.439 123.911C186.226 126.195 189.717 127.443 193.32 127.44C195.364 127.443 197.388 127.042 199.275 126.259C201.163 125.476 202.878 124.328 204.32 122.88ZM122.88 19.4205C120.333 16.8729 116.981 15.2876 113.395 14.9347C109.81 14.5817 106.213 15.483 103.218 17.4849C100.223 19.4868 98.0146 22.4654 96.9696 25.9131C95.9245 29.3608 96.1073 33.0642 97.4869 36.3922C98.8665 39.7202 101.358 42.4668 104.535 44.1639C107.713 45.861 111.381 46.4036 114.914 45.6992C118.447 44.9949 121.627 43.0871 123.911 40.301C126.195 37.515 127.442 34.0231 127.44 30.4205C127.44 28.3772 127.038 26.3539 126.255 24.4664C125.473 22.5788 124.326 20.8642 122.88 19.4205ZM19.42 100.86C16.8725 103.408 15.2872 106.76 14.9342 110.345C14.5813 113.93 15.4826 117.527 17.4844 120.522C19.4863 123.518 22.4649 125.726 25.9127 126.771C29.3604 127.816 33.0638 127.633 36.3918 126.254C39.7198 124.874 42.4664 122.383 44.1635 119.205C45.8606 116.027 46.4032 112.359 45.6988 108.826C44.9944 105.293 43.0866 102.114 40.3006 99.8296C37.5145 97.5455 34.0227 96.2983 30.42 96.3005C26.2938 96.3018 22.337 97.9421 19.42 100.86ZM100.86 100.86C98.3125 103.408 96.7272 106.76 96.3742 110.345C96.0213 113.93 96.9226 117.527 98.9244 120.522C100.926 123.518 103.905 125.726 107.353 126.771C110.8 127.816 114.504 127.633 117.832 126.254C121.16 124.874 123.906 122.383 125.604 119.205C127.301 116.027 127.843 112.359 127.139 108.826C126.434 105.293 124.527 102.114 121.741 99.8296C118.955 97.5455 115.463 96.2983 111.86 96.3005C109.817 96.299 107.793 96.701 105.905 97.4835C104.018 98.2661 102.303 99.4136 100.86 100.86Z\" fill=\"#00AEEF\"/>\n",
       "    </g>\n",
       "    <defs>\n",
       "        <clipPath id=\"clip0_4338_178347\">\n",
       "            <rect width=\"566.93\" height=\"223.75\" fill=\"white\"/>\n",
       "        </clipPath>\n",
       "    </defs>\n",
       "  </svg>\n",
       "</div>\n",
       "\n",
       "        <table class=\"jp-RenderedHTMLCommon\" style=\"border-collapse: collapse;color: var(--jp-ui-font-color1);font-size: var(--jp-ui-font-size1);\">\n",
       "    <tr>\n",
       "        <td style=\"text-align: left\"><b>Python version:</b></td>\n",
       "        <td style=\"text-align: left\"><b>3.10.16</b></td>\n",
       "    </tr>\n",
       "    <tr>\n",
       "        <td style=\"text-align: left\"><b>Ray version:</b></td>\n",
       "        <td style=\"text-align: left\"><b>2.40.0</b></td>\n",
       "    </tr>\n",
       "    <tr>\n",
       "    <td style=\"text-align: left\"><b>Dashboard:</b></td>\n",
       "    <td style=\"text-align: left\"><b><a href=\"http://127.0.0.1:8265\" target=\"_blank\">http://127.0.0.1:8265</a></b></td>\n",
       "</tr>\n",
       "\n",
       "</table>\n",
       "\n",
       "    </div>\n",
       "</div>\n"
      ],
      "text/plain": [
       "RayContext(dashboard_url='127.0.0.1:8265', python_version='3.10.16', ray_version='2.40.0', ray_commit='22541c38dbef25286cd6d19f1c151bf4fd62f2ed')"
      ]
     },
     "execution_count": 2,
     "metadata": {},
     "output_type": "execute_result"
    },
    {
     "name": "stderr",
     "output_type": "stream",
     "text": [
      "\u001b[33m(raylet)\u001b[0m [2025-01-07 02:17:18,935 E 38180 182883] (raylet) file_system_monitor.cc:116: /tmp/ray/session_2025-01-07_02-08-53_797992_38125 is over 95% full, available space: 8.99148 GB; capacity: 278.466 GB. Object creation will fail if spilling is required.\n",
      "\u001b[33m(raylet)\u001b[0m [2025-01-07 02:17:28,994 E 38180 182883] (raylet) file_system_monitor.cc:116: /tmp/ray/session_2025-01-07_02-08-53_797992_38125 is over 95% full, available space: 8.99083 GB; capacity: 278.466 GB. Object creation will fail if spilling is required.\n",
      "\u001b[33m(raylet)\u001b[0m [2025-01-07 02:17:39,084 E 38180 182883] (raylet) file_system_monitor.cc:116: /tmp/ray/session_2025-01-07_02-08-53_797992_38125 is over 95% full, available space: 8.99057 GB; capacity: 278.466 GB. Object creation will fail if spilling is required.\n",
      "\u001b[33m(raylet)\u001b[0m [2025-01-07 02:17:49,109 E 38180 182883] (raylet) file_system_monitor.cc:116: /tmp/ray/session_2025-01-07_02-08-53_797992_38125 is over 95% full, available space: 8.99014 GB; capacity: 278.466 GB. Object creation will fail if spilling is required.\n",
      "\u001b[33m(raylet)\u001b[0m [2025-01-07 02:17:59,138 E 38180 182883] (raylet) file_system_monitor.cc:116: /tmp/ray/session_2025-01-07_02-08-53_797992_38125 is over 95% full, available space: 8.98939 GB; capacity: 278.466 GB. Object creation will fail if spilling is required.\n",
      "\u001b[33m(raylet)\u001b[0m [2025-01-07 02:18:09,232 E 38180 182883] (raylet) file_system_monitor.cc:116: /tmp/ray/session_2025-01-07_02-08-53_797992_38125 is over 95% full, available space: 8.9871 GB; capacity: 278.466 GB. Object creation will fail if spilling is required.\n",
      "\u001b[33m(raylet)\u001b[0m [2025-01-07 02:18:19,272 E 38180 182883] (raylet) file_system_monitor.cc:116: /tmp/ray/session_2025-01-07_02-08-53_797992_38125 is over 95% full, available space: 8.98573 GB; capacity: 278.466 GB. Object creation will fail if spilling is required.\n",
      "\u001b[33m(raylet)\u001b[0m [2025-01-07 02:18:29,300 E 38180 182883] (raylet) file_system_monitor.cc:116: /tmp/ray/session_2025-01-07_02-08-53_797992_38125 is over 95% full, available space: 8.98591 GB; capacity: 278.466 GB. Object creation will fail if spilling is required.\n",
      "\u001b[33m(raylet)\u001b[0m [2025-01-07 02:18:39,361 E 38180 182883] (raylet) file_system_monitor.cc:116: /tmp/ray/session_2025-01-07_02-08-53_797992_38125 is over 95% full, available space: 8.98552 GB; capacity: 278.466 GB. Object creation will fail if spilling is required.\n",
      "\u001b[33m(raylet)\u001b[0m [2025-01-07 02:18:49,387 E 38180 182883] (raylet) file_system_monitor.cc:116: /tmp/ray/session_2025-01-07_02-08-53_797992_38125 is over 95% full, available space: 8.98499 GB; capacity: 278.466 GB. Object creation will fail if spilling is required.\n",
      "\u001b[33m(raylet)\u001b[0m [2025-01-07 02:18:59,414 E 38180 182883] (raylet) file_system_monitor.cc:116: /tmp/ray/session_2025-01-07_02-08-53_797992_38125 is over 95% full, available space: 8.98462 GB; capacity: 278.466 GB. Object creation will fail if spilling is required.\n",
      "\u001b[33m(raylet)\u001b[0m [2025-01-07 02:19:09,439 E 38180 182883] (raylet) file_system_monitor.cc:116: /tmp/ray/session_2025-01-07_02-08-53_797992_38125 is over 95% full, available space: 8.98438 GB; capacity: 278.466 GB. Object creation will fail if spilling is required.\n",
      "\u001b[33m(raylet)\u001b[0m [2025-01-07 02:19:19,460 E 38180 182883] (raylet) file_system_monitor.cc:116: /tmp/ray/session_2025-01-07_02-08-53_797992_38125 is over 95% full, available space: 8.98353 GB; capacity: 278.466 GB. Object creation will fail if spilling is required.\n",
      "\u001b[33m(raylet)\u001b[0m [2025-01-07 02:19:29,490 E 38180 182883] (raylet) file_system_monitor.cc:116: /tmp/ray/session_2025-01-07_02-08-53_797992_38125 is over 95% full, available space: 8.9822 GB; capacity: 278.466 GB. Object creation will fail if spilling is required.\n",
      "\u001b[33m(raylet)\u001b[0m [2025-01-07 02:19:39,518 E 38180 182883] (raylet) file_system_monitor.cc:116: /tmp/ray/session_2025-01-07_02-08-53_797992_38125 is over 95% full, available space: 8.98125 GB; capacity: 278.466 GB. Object creation will fail if spilling is required.\n",
      "\u001b[33m(raylet)\u001b[0m [2025-01-07 02:19:49,541 E 38180 182883] (raylet) file_system_monitor.cc:116: /tmp/ray/session_2025-01-07_02-08-53_797992_38125 is over 95% full, available space: 8.98061 GB; capacity: 278.466 GB. Object creation will fail if spilling is required.\n",
      "\u001b[33m(raylet)\u001b[0m [2025-01-07 02:19:59,583 E 38180 182883] (raylet) file_system_monitor.cc:116: /tmp/ray/session_2025-01-07_02-08-53_797992_38125 is over 95% full, available space: 8.97939 GB; capacity: 278.466 GB. Object creation will fail if spilling is required.\n",
      "\u001b[33m(raylet)\u001b[0m [2025-01-07 02:20:09,614 E 38180 182883] (raylet) file_system_monitor.cc:116: /tmp/ray/session_2025-01-07_02-08-53_797992_38125 is over 95% full, available space: 8.97964 GB; capacity: 278.466 GB. Object creation will fail if spilling is required.\n",
      "\u001b[33m(raylet)\u001b[0m [2025-01-07 02:20:19,641 E 38180 182883] (raylet) file_system_monitor.cc:116: /tmp/ray/session_2025-01-07_02-08-53_797992_38125 is over 95% full, available space: 8.9792 GB; capacity: 278.466 GB. Object creation will fail if spilling is required.\n",
      "\u001b[33m(raylet)\u001b[0m [2025-01-07 02:20:29,709 E 38180 182883] (raylet) file_system_monitor.cc:116: /tmp/ray/session_2025-01-07_02-08-53_797992_38125 is over 95% full, available space: 8.97874 GB; capacity: 278.466 GB. Object creation will fail if spilling is required.\n",
      "\u001b[33m(raylet)\u001b[0m [2025-01-07 02:20:39,730 E 38180 182883] (raylet) file_system_monitor.cc:116: /tmp/ray/session_2025-01-07_02-08-53_797992_38125 is over 95% full, available space: 8.97831 GB; capacity: 278.466 GB. Object creation will fail if spilling is required.\n",
      "\u001b[33m(raylet)\u001b[0m [2025-01-07 02:20:49,758 E 38180 182883] (raylet) file_system_monitor.cc:116: /tmp/ray/session_2025-01-07_02-08-53_797992_38125 is over 95% full, available space: 8.97758 GB; capacity: 278.466 GB. Object creation will fail if spilling is required.\n",
      "\u001b[33m(raylet)\u001b[0m [2025-01-07 02:20:59,798 E 38180 182883] (raylet) file_system_monitor.cc:116: /tmp/ray/session_2025-01-07_02-08-53_797992_38125 is over 95% full, available space: 8.9724 GB; capacity: 278.466 GB. Object creation will fail if spilling is required.\n",
      "\u001b[33m(raylet)\u001b[0m [2025-01-07 02:21:09,828 E 38180 182883] (raylet) file_system_monitor.cc:116: /tmp/ray/session_2025-01-07_02-08-53_797992_38125 is over 95% full, available space: 8.9736 GB; capacity: 278.466 GB. Object creation will fail if spilling is required.\n",
      "\u001b[33m(raylet)\u001b[0m [2025-01-07 02:21:19,854 E 38180 182883] (raylet) file_system_monitor.cc:116: /tmp/ray/session_2025-01-07_02-08-53_797992_38125 is over 95% full, available space: 8.97289 GB; capacity: 278.466 GB. Object creation will fail if spilling is required.\n",
      "\u001b[33m(raylet)\u001b[0m [2025-01-07 02:21:29,882 E 38180 182883] (raylet) file_system_monitor.cc:116: /tmp/ray/session_2025-01-07_02-08-53_797992_38125 is over 95% full, available space: 8.9726 GB; capacity: 278.466 GB. Object creation will fail if spilling is required.\n",
      "\u001b[33m(raylet)\u001b[0m [2025-01-07 02:21:39,903 E 38180 182883] (raylet) file_system_monitor.cc:116: /tmp/ray/session_2025-01-07_02-08-53_797992_38125 is over 95% full, available space: 8.97211 GB; capacity: 278.466 GB. Object creation will fail if spilling is required.\n",
      "\u001b[33m(raylet)\u001b[0m [2025-01-07 02:21:49,927 E 38180 182883] (raylet) file_system_monitor.cc:116: /tmp/ray/session_2025-01-07_02-08-53_797992_38125 is over 95% full, available space: 8.97145 GB; capacity: 278.466 GB. Object creation will fail if spilling is required.\n",
      "\u001b[33m(raylet)\u001b[0m [2025-01-07 02:21:59,950 E 38180 182883] (raylet) file_system_monitor.cc:116: /tmp/ray/session_2025-01-07_02-08-53_797992_38125 is over 95% full, available space: 8.97055 GB; capacity: 278.466 GB. Object creation will fail if spilling is required.\n",
      "\u001b[33m(raylet)\u001b[0m [2025-01-07 02:22:09,976 E 38180 182883] (raylet) file_system_monitor.cc:116: /tmp/ray/session_2025-01-07_02-08-53_797992_38125 is over 95% full, available space: 8.96981 GB; capacity: 278.466 GB. Object creation will fail if spilling is required.\n"
     ]
    }
   ],
   "source": [
    "# starting up a ray instance\n",
    "ray.init(address=\"auto\")"
   ]
  },
  {
   "cell_type": "code",
   "execution_count": 3,
   "id": "5ab2fc8f-cca6-469a-b7f8-50c31aa4d765",
   "metadata": {},
   "outputs": [
    {
     "data": {
      "text/plain": [
       "True"
      ]
     },
     "execution_count": 3,
     "metadata": {},
     "output_type": "execute_result"
    }
   ],
   "source": [
    "# checking if ray cluster is initialized\n",
    "ray.is_initialized()"
   ]
  },
  {
   "cell_type": "code",
   "execution_count": 4,
   "id": "18e4d119-5a61-43a2-a13c-5d9ed5b01ab7",
   "metadata": {},
   "outputs": [],
   "source": [
    "@ray.remote\n",
    "def compute(x):\n",
    "    return x * 2"
   ]
  },
  {
   "cell_type": "code",
   "execution_count": 5,
   "id": "849a15c0-a5d2-42a2-b8e8-d599ebfca749",
   "metadata": {},
   "outputs": [],
   "source": [
    "@ray.remote\n",
    "def compute_heavy(x):\n",
    "    time.sleep(1)\n",
    "    return x * 2"
   ]
  },
  {
   "cell_type": "code",
   "execution_count": 6,
   "id": "3395afea-0a64-492d-a78f-effa4f82c361",
   "metadata": {},
   "outputs": [],
   "source": [
    "@ray.remote(num_cpus=2)\n",
    "def compute_heavier(x):\n",
    "    # Simulate a computationally intensive task with matrix multiplication\n",
    "    matrix_size = 1000  # Size of the matrix\n",
    "    matrix_a = np.random.rand(matrix_size, matrix_size)\n",
    "    matrix_b = np.random.rand(matrix_size, matrix_size)\n",
    "    result = np.dot(matrix_a, matrix_b)\n",
    "    return np.sum(result)"
   ]
  },
  {
   "cell_type": "code",
   "execution_count": 7,
   "id": "fed5228a-7578-48c4-883f-e857effd0c13",
   "metadata": {},
   "outputs": [
    {
     "name": "stdout",
     "output_type": "stream",
     "text": [
      "[0, 2, 4, 6, 8, 10, 12, 14, 16, 18]\n"
     ]
    }
   ],
   "source": [
    "futures = [compute_heavy.remote(i) for i in range(10)]\n",
    "results = ray.get(futures)\n",
    "print(results)"
   ]
  },
  {
   "cell_type": "code",
   "execution_count": 8,
   "id": "f8f781e6-5987-4dce-8c61-3c3e0b6db7a8",
   "metadata": {},
   "outputs": [
    {
     "name": "stdout",
     "output_type": "stream",
     "text": [
      "Cluster Resources: {'CPU': 8.0, 'memory': 5271680205.0, 'node:127.0.0.1': 1.0, 'object_store_memory': 2147483648.0, 'node:__internal_head__': 1.0}\n"
     ]
    }
   ],
   "source": [
    "# Get cluster-wide resources\n",
    "cluster_resources = ray.cluster_resources()\n",
    "print(\"Cluster Resources:\", cluster_resources)"
   ]
  },
  {
   "cell_type": "code",
   "execution_count": 9,
   "id": "f61b90b5-22e3-4ada-be3d-6495f51ac5f4",
   "metadata": {},
   "outputs": [
    {
     "name": "stdout",
     "output_type": "stream",
     "text": [
      "Resources before task execution: {'CPU': 8.0, 'object_store_memory': 2147483648.0, 'node:127.0.0.1': 1.0, 'memory': 5271680205.0, 'node:__internal_head__': 1.0} \n",
      "\n",
      "Resources after task execution: {'CPU': 8.0, 'object_store_memory': 2147483648.0, 'node:127.0.0.1': 1.0, 'memory': 5271680205.0, 'node:__internal_head__': 1.0} \n",
      "\n",
      "[0, 2, 4, 6, 8, 10, 12, 14, 16, 18]\n"
     ]
    }
   ],
   "source": [
    "print(\"Resources before task execution:\", ray.cluster_resources() , \"\\n\")\n",
    "futures = [compute_heavy.remote(i) for i in range(10)]\n",
    "results = ray.get(futures)\n",
    "print(\"Resources after task execution:\", ray.cluster_resources() , \"\\n\")\n",
    "print(results)"
   ]
  },
  {
   "cell_type": "code",
   "execution_count": 10,
   "id": "68e8c12e-d2bc-4a48-bf4f-77b4f2201d6c",
   "metadata": {},
   "outputs": [],
   "source": [
    "# Function to check current CPU usage\n",
    "def get_cpu_usage():\n",
    "    return psutil.cpu_percent(interval=1)"
   ]
  },
  {
   "cell_type": "code",
   "execution_count": 11,
   "id": "8dbd0b03-5df2-45f2-8c01-1e6e26aa3a5d",
   "metadata": {},
   "outputs": [
    {
     "name": "stdout",
     "output_type": "stream",
     "text": [
      "Resources before task execution: {'CPU': 8.0, 'node:__internal_head__': 1.0, 'node:127.0.0.1': 1.0, 'object_store_memory': 2147483648.0, 'memory': 5271680205.0}\n",
      "CPU usage before task execution: 87.8\n",
      "CPU usage during task execution: 94.9\n",
      "Resources during task execution: {'CPU': 8.0, 'object_store_memory': 2147483648.0, 'node:127.0.0.1': 1.0, 'node:__internal_head__': 1.0, 'memory': 5271680205.0}\n",
      "CPU usage after task execution: 88.7\n",
      "Resources after task execution: {'CPU': 8.0, 'memory': 5271680205.0, 'node:127.0.0.1': 1.0, 'node:__internal_head__': 1.0, 'object_store_memory': 2147483648.0}\n",
      "[np.float64(249771080.616331), np.float64(250205369.64775905), np.float64(249944264.83820343), np.float64(250103880.57130757), np.float64(249758699.81612733), np.float64(250043783.98052943), np.float64(250222259.6777461), np.float64(249909234.6633425), np.float64(249877197.6409919), np.float64(250104497.27232122)]\n"
     ]
    }
   ],
   "source": [
    "# checking resources before executing the task\n",
    "before_resources = ray.cluster_resources()\n",
    "print(\"Resources before task execution:\", before_resources)\n",
    "\n",
    "# cehcking cpu usage before the executing the task\n",
    "before_cpu = get_cpu_usage()\n",
    "print(\"CPU usage before task execution:\", before_cpu)\n",
    "\n",
    "# submitting multiple tasks in parallel\n",
    "futures = [compute_heavier.remote(i) for i in range(10)]\n",
    "\n",
    "# checking cpu usage while there are tasks running\n",
    "during_cpu = get_cpu_usage()\n",
    "print(\"CPU usage during task execution:\", during_cpu)\n",
    "\n",
    "# checking resources used during task execution\n",
    "during_resources = ray.cluster_resources()\n",
    "print(\"Resources during task execution:\", during_resources)\n",
    "\n",
    "# running the tasks and collecting the results\n",
    "results = ray.get(futures)\n",
    "\n",
    "# checking cpu usage after task execution\n",
    "after_cpu = get_cpu_usage()\n",
    "print(\"CPU usage after task execution:\", after_cpu)\n",
    "\n",
    "# checking resources after executing tasks\n",
    "after_resources = ray.cluster_resources()\n",
    "print(\"Resources after task execution:\", after_resources)\n",
    "\n",
    "# printing out the results\n",
    "print(results)"
   ]
  },
  {
   "cell_type": "code",
   "execution_count": 12,
   "id": "fad4981e-af94-43b3-a927-cd582267b5f9",
   "metadata": {},
   "outputs": [
    {
     "name": "stderr",
     "output_type": "stream",
     "text": [
      "Executing tasks: 100%|█████████████████████████████████████████████████████████████████████████████████████████████████████| 10/10 [04:40<00:00, 28.06s/task]"
     ]
    },
    {
     "name": "stdout",
     "output_type": "stream",
     "text": [
      "Result of task 0: 182221432534.01727\n",
      "Result of task 1: 182284692871.89856\n",
      "Result of task 2: 182253309120.48502\n",
      "Result of task 3: 182272822676.4526\n",
      "Result of task 4: 182236392323.33167\n",
      "Result of task 5: 182263253087.99643\n",
      "Result of task 6: 182243708527.96887\n",
      "Result of task 7: 182245353196.41867\n",
      "Result of task 8: 182243042875.1554\n",
      "Result of task 9: 182267758528.59763\n"
     ]
    },
    {
     "name": "stderr",
     "output_type": "stream",
     "text": [
      "\n"
     ]
    }
   ],
   "source": [
    "import ray\n",
    "import numpy as np\n",
    "from tqdm import tqdm\n",
    "from concurrent.futures import ThreadPoolExecutor\n",
    "\n",
    "@ray.remote(num_cpus=8)\n",
    "def compute_heavier(x):\n",
    "    matrix_size = 9000\n",
    "    matrix_a = np.random.rand(matrix_size, matrix_size)\n",
    "    matrix_b = np.random.rand(matrix_size, matrix_size)\n",
    "    result = np.dot(matrix_a, matrix_b)\n",
    "    return np.sum(result)\n",
    "\n",
    "# Run tasks in parallel using tqdm to show progress, limiting to 2 concurrent tasks\n",
    "task_ids = [compute_heavier.remote(i) for i in range(10)]\n",
    "\n",
    "# Use ThreadPoolExecutor to limit concurrent execution to 2 tasks\n",
    "results = []\n",
    "with ThreadPoolExecutor(max_workers=2) as executor:\n",
    "    # Run the tasks and collect results as they complete\n",
    "    for task_id in tqdm(executor.map(ray.get, task_ids), total=len(task_ids), desc=\"Executing tasks\", unit=\"task\"):\n",
    "        results.append(task_id)\n",
    "\n",
    "# Print the results\n",
    "for i, result in enumerate(results):\n",
    "    print(f\"Result of task {i}: {result}\")"
   ]
  },
  {
   "cell_type": "code",
   "execution_count": 13,
   "id": "380ea9ca-5bff-42b4-b1b1-5851e5c802ee",
   "metadata": {},
   "outputs": [],
   "source": [
    "# shutting down ray instance\n",
    "ray.shutdown()"
   ]
  },
  {
   "cell_type": "code",
   "execution_count": null,
   "id": "32da2e6d-47ea-4673-83d3-4b299f99750b",
   "metadata": {},
   "outputs": [],
   "source": [
    "import json\n",
    "from tqdm import tqdm  # Import tqdm for progress bar\n",
    "import pandas as pd\n",
    "\n",
    "# Load your trace data from a JSON file\n",
    "with open('timeline-03000000-2025-01-07_01-37-15.json') as f:\n",
    "    trace_data = json.load(f)\n",
    "\n",
    "# Extract relevant information: task name, start time, duration, category, etc.\n",
    "events = []\n",
    "\n",
    "# Iterate through trace data with tqdm to display progress\n",
    "for event in tqdm(trace_data, desc=\"Processing events\", unit=\"event\"):\n",
    "    try:\n",
    "        # Check if 'ts' exists in the event, if not, skip this event\n",
    "        if 'ts' in event and 'dur' in event and 'args' in event and 'task_id' in event['args']:\n",
    "            event_data = {\n",
    "                'name': event['name'],\n",
    "                'start_time': event['ts'],\n",
    "                'duration': event['dur'],\n",
    "                'category': event['cat'],\n",
    "                'task_id': event['args']['task_id'],\n",
    "            }\n",
    "            events.append(event_data)\n",
    "    except KeyError as e:\n",
    "        # Handle any unexpected missing fields\n",
    "        print(f\"Missing key: {e}, skipping event: {event}\")\n",
    "\n",
    "# Now events contains a list of dictionaries that can be used for visualization\n",
    "\n",
    "# Convert events to a DataFrame for easier manipulation\n",
    "df = pd.DataFrame(events)\n",
    "\n",
    "# Prepare a Gantt chart-style visualization using Plotly (example)\n",
    "import plotly.express as px\n",
    "\n",
    "fig = px.timeline(df, \n",
    "                  x_start=\"start_time\", \n",
    "                  x_end=\"start_time\",  # Default, adjust based on task duration\n",
    "                  y=\"name\", \n",
    "                  color=\"category\",  # Use category for coloring\n",
    "                  title=\"Task Execution Timeline\")\n",
    "\n",
    "fig.update_yaxes(categoryorder=\"total ascending\")  # Sort tasks by their name\n",
    "fig.show()\n"
   ]
  },
  {
   "cell_type": "code",
   "execution_count": null,
   "id": "376d607c-87d2-442b-b8a2-e00d1b270a64",
   "metadata": {},
   "outputs": [],
   "source": [
    "print(df['category'].unique())"
   ]
  },
  {
   "cell_type": "code",
   "execution_count": null,
   "id": "de8471f4-5db1-4af6-97c1-caf0797093ec",
   "metadata": {},
   "outputs": [],
   "source": [
    "import pandas as pd\n",
    "import plotly.express as px\n",
    "\n",
    "# Assuming 'events' is the list of dictionaries you've processed\n",
    "df = pd.DataFrame(events)\n",
    "\n",
    "# Check unique categories for coloring\n",
    "print(df['category'].unique())\n",
    "\n",
    "# Fill NaN categories if any\n",
    "df['category'] = df['category'].fillna('Unknown')\n",
    "\n",
    "# Convert the category column to a categorical type\n",
    "df['category'] = pd.Categorical(df['category'])\n",
    "\n",
    "# Convert start_time and end_time to proper datetime objects\n",
    "# Assuming 'start_time' is in microseconds (adjust if in nanoseconds)\n",
    "df['start_time'] = pd.to_datetime(df['start_time'], unit='us')\n",
    "\n",
    "# Calculate the end time for each event\n",
    "df['end_time'] = df['start_time'] + pd.to_timedelta(df['duration'], unit='us')\n",
    "\n",
    "# Prepare the Gantt chart visualization\n",
    "fig = px.timeline(df, \n",
    "                   x_start=\"start_time\", \n",
    "                   x_end=\"end_time\",  # Use the calculated end_time\n",
    "                   y=\"name\", \n",
    "                   color=\"category\",  # Use category for coloring\n",
    "                   title=\"Task Execution Timeline\")\n",
    "\n",
    "# Sort tasks by their name if needed\n",
    "fig.update_yaxes(categoryorder=\"total ascending\")  \n",
    "\n",
    "# Display the plot\n",
    "fig.show()\n"
   ]
  },
  {
   "cell_type": "code",
   "execution_count": null,
   "id": "1401cd9d-a207-4b86-9b8b-08a552211876",
   "metadata": {},
   "outputs": [],
   "source": [
    "import json\n",
    "\n",
    "# Load the trace data from your JSON file\n",
    "with open('timeline-03000000-2025-01-07_01-37-15.json') as f:\n",
    "    trace_data = json.load(f)\n",
    "\n",
    "# Extract all unique pid values\n",
    "pids = set()\n",
    "\n",
    "for event in trace_data:\n",
    "    pids.add(event.get('pid', None))  # Use .get() to avoid KeyError if 'pid' is missing\n",
    "\n",
    "# Print the unique pid values\n",
    "print(\"Unique PIDs:\", pids)"
   ]
  },
  {
   "cell_type": "code",
   "execution_count": null,
   "id": "852f2c4e-858e-41bb-a453-29ccb25b6aa7",
   "metadata": {},
   "outputs": [],
   "source": []
  }
 ],
 "metadata": {
  "kernelspec": {
   "display_name": "ray-kernel",
   "language": "python",
   "name": "ray-kernel"
  },
  "language_info": {
   "codemirror_mode": {
    "name": "ipython",
    "version": 3
   },
   "file_extension": ".py",
   "mimetype": "text/x-python",
   "name": "python",
   "nbconvert_exporter": "python",
   "pygments_lexer": "ipython3",
   "version": "3.10.16"
  }
 },
 "nbformat": 4,
 "nbformat_minor": 5
}

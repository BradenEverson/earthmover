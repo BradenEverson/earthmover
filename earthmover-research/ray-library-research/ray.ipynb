{
 "cells": [
  {
   "cell_type": "markdown",
   "id": "df1afe39",
   "metadata": {},
   "source": [
    "# Introduction to Ray\n",
    "Ray is a open-source unified framework for scaling AI and Python applications like machine learning. It provides the compute layer for parallel processing so that you don't need to be a dsitributed systems expert."
   ]
  },
  {
   "cell_type": "code",
   "execution_count": null,
   "id": "b197e25f-e74d-4435-b64f-c1e9c9c1790e",
   "metadata": {},
   "outputs": [],
   "source": [
    "# suppressing all error messages\n",
    "import warnings\n",
    "warnings.filterwarnings('ignore')"
   ]
  },
  {
   "cell_type": "markdown",
   "id": "bfc476b9",
   "metadata": {},
   "source": [
    "## 1 | Paralleizing Tasks with Ray\n",
    "We can turn functions and classes eaily into Ray tasks and actors, for Python with simple primitives for building and running distributed applications. \n",
    "\n",
    "### Simplified Explanation\n",
    "Ray make it easy to run functions and classes on multiple computers at the same time. It handles the complex parts of managing tasks and resources, so you can focus on building scalable applications with simple commands"
   ]
  },
  {
   "cell_type": "code",
   "execution_count": null,
   "id": "a7ec9e94",
   "metadata": {},
   "outputs": [],
   "source": [
    "# importing ray\n",
    "import ray"
   ]
  },
  {
   "cell_type": "code",
   "execution_count": null,
   "id": "28d83a01",
   "metadata": {},
   "outputs": [],
   "source": [
    "# initializing ray\n",
    "ray.init()"
   ]
  },
  {
   "cell_type": "code",
   "execution_count": null,
   "id": "b86a6b67",
   "metadata": {},
   "outputs": [],
   "source": [
    "# the @ is a decorator that tells Ray to treat function f as a \"remote task\" that can be executed in parallel\n",
    "@ray.remote\n",
    "def f(x):\n",
    "    return x * x"
   ]
  },
  {
   "cell_type": "code",
   "execution_count": null,
   "id": "1f3c1d90",
   "metadata": {},
   "outputs": [],
   "source": [
    "# creates a list of futures, which are placeholders for results of remote tasks\n",
    "futures = [f.remote(i) for i in range(4)]\n",
    "\n",
    "# used to retrieve the results of the futures\n",
    "print(ray.get(futures))"
   ]
  },
  {
   "cell_type": "code",
   "execution_count": null,
   "id": "66c7c6a5",
   "metadata": {},
   "outputs": [],
   "source": [
    "# stopping ray\n",
    "ray.shutdown()"
   ]
  },
  {
   "cell_type": "markdown",
   "id": "251b6621",
   "metadata": {},
   "source": [
    "## 2 | Counting Digits of PI\n",
    "Sometimes we just want to do something simple in parallel. Ray is useful for simpler, repetitive tasks that need to be run multiple times. The following example below is about processing 100,000 time series. Each time series needs to be processed using the same algorithm.\n",
    "\n",
    "Instead of processing them one by one, Ray can handle the tasks in parallel, so multiple time series can be processed at the same time, which speeds up the overall work."
   ]
  },
  {
   "cell_type": "markdown",
   "id": "36fb15a6",
   "metadata": {},
   "source": [
    "### The Pi Example\n",
    "We take the the simple example of counting digits of Pi. The algorithm works by generating random x and y, and if x^2 + y^2 < 1, it's inside the circle, we count as in. "
   ]
  },
  {
   "cell_type": "code",
   "execution_count": null,
   "id": "4e0a9418-d8a4-4cb5-90fa-a30242852f6d",
   "metadata": {},
   "outputs": [],
   "source": [
    "# all the necessary imports\n",
    "import ray\n",
    "import random\n",
    "import time\n",
    "import math\n",
    "from tqdm import tqdm\n",
    "from fractions import Fraction"
   ]
  },
  {
   "cell_type": "code",
   "execution_count": null,
   "id": "8836e20b-5c0a-4f2e-a366-126926a6bf8a",
   "metadata": {},
   "outputs": [],
   "source": [
    "# starting up ray\n",
    "ray.init(address='auto')"
   ]
  },
  {
   "cell_type": "code",
   "execution_count": null,
   "id": "e6563712-c418-4253-b20f-cea078b21f40",
   "metadata": {},
   "outputs": [],
   "source": [
    "@ray.remote\n",
    "def pi4_sample(sample_count):\n",
    "    in_count = 0\n",
    "    for i in range(sample_count):\n",
    "        x = random.random()\n",
    "        y = random.random()\n",
    "        if x*x + y*y <= 1:\n",
    "            in_count += 1\n",
    "    return Fraction(in_count, sample_count)"
   ]
  },
  {
   "cell_type": "code",
   "execution_count": null,
   "id": "8a44df7e-1781-4cb8-ae47-542bb836cfac",
   "metadata": {},
   "outputs": [],
   "source": [
    "SAMPLE_COUNT = 1000 * 1000\n",
    "start = time.time()\n",
    "future = pi4_sample.remote(sample_count=SAMPLE_COUNT)\n",
    "pi4 = ray.get(future)\n",
    "end = time.time()\n",
    "duration = end - start\n",
    "print(f'Running {SAMPLE_COUNT} tests took {duration} seconds')"
   ]
  },
  {
   "cell_type": "code",
   "execution_count": null,
   "id": "ad14d7fc-c17b-4bb5-a0b0-6550a087a3ba",
   "metadata": {},
   "outputs": [],
   "source": [
    "FULL_SAMPLE_COUNT = 1000 * 1000 * 1000 \n",
    "BATCHES = int(FULL_SAMPLE_COUNT / SAMPLE_COUNT)\n",
    "print(f'Doing {BATCHES} batches')\n",
    "results = []\n",
    "for _ in range(BATCHES):\n",
    "    results.append(pi4_sample.remote(sample_count=SAMPLE_COUNT))\n",
    "output = ray.get(results)"
   ]
  },
  {
   "cell_type": "code",
   "execution_count": null,
   "id": "ea9f6148-2298-4d1c-84bd-5205c6ed3c9b",
   "metadata": {},
   "outputs": [],
   "source": []
  }
 ],
 "metadata": {
  "kernelspec": {
   "display_name": "ray-kernel",
   "language": "python",
   "name": "ray-kernel"
  },
  "language_info": {
   "codemirror_mode": {
    "name": "ipython",
    "version": 3
   },
   "file_extension": ".py",
   "mimetype": "text/x-python",
   "name": "python",
   "nbconvert_exporter": "python",
   "pygments_lexer": "ipython3",
   "version": "3.10.16"
  }
 },
 "nbformat": 4,
 "nbformat_minor": 5
}
